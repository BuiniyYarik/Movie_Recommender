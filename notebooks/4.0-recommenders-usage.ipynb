{
 "cells": [
  {
   "cell_type": "markdown",
   "source": [
    "## Test the recommender systems on a single user"
   ],
   "metadata": {
    "collapsed": false
   },
   "id": "b67cb58b5bfb847d"
  },
  {
   "cell_type": "code",
   "execution_count": 1,
   "outputs": [],
   "source": [
    "from models.svd_predict import recommend_top_k_movies_svd\n",
    "from models.lr_predict import recommend_top_k_movies_lr"
   ],
   "metadata": {
    "collapsed": false,
    "ExecuteTime": {
     "end_time": "2023-12-03T19:09:13.018907800Z",
     "start_time": "2023-12-03T19:09:12.860906400Z"
    }
   },
   "id": "f370ec7b76951b55"
  },
  {
   "cell_type": "code",
   "execution_count": 2,
   "outputs": [],
   "source": [
    "user_id = 100\n",
    "num_movies_to_recommend = 10"
   ],
   "metadata": {
    "collapsed": false,
    "ExecuteTime": {
     "end_time": "2023-12-03T19:09:13.034905Z",
     "start_time": "2023-12-03T19:09:13.018907800Z"
    }
   },
   "id": "193263259f65e75b"
  },
  {
   "cell_type": "code",
   "execution_count": 7,
   "outputs": [
    {
     "name": "stdout",
     "output_type": "stream",
     "text": [
      "Top 10 movie recommendations for user 100:\n",
      "Movie ID: 245, Title: Devil's Own, The (1997)\n",
      "Movie ID: 301, Title: In & Out (1997)\n",
      "Movie ID: 303, Title: Ulee's Gold (1997)\n",
      "Movie ID: 304, Title: Fly Away Home (1996)\n",
      "Movie ID: 307, Title: Devil's Advocate, The (1997)\n",
      "Movie ID: 322, Title: Murder at 1600 (1997)\n",
      "Movie ID: 327, Title: Cop Land (1997)\n",
      "Movie ID: 331, Title: Edge, The (1997)\n",
      "Movie ID: 332, Title: Kiss the Girls (1997)\n",
      "Movie ID: 748, Title: Saint, The (1997)\n"
     ]
    }
   ],
   "source": [
    "# SVD\n",
    "top_k_recommendations_svd = recommend_top_k_movies_svd(user_id, num_movies_to_recommend)"
   ],
   "metadata": {
    "collapsed": false,
    "ExecuteTime": {
     "end_time": "2023-12-03T18:57:25.434107200Z",
     "start_time": "2023-12-03T18:57:25.306106800Z"
    }
   },
   "id": "965c038b665baba3"
  },
  {
   "cell_type": "code",
   "execution_count": 3,
   "outputs": [
    {
     "name": "stdout",
     "output_type": "stream",
     "text": [
      "Top 10 movie recommendations for user 100:\n",
      "Movie ID: 51, Title: Legends of the Fall (1994)\n",
      "Movie ID: 299, Title: Hoodlum (1997)\n",
      "Movie ID: 642, Title: Grifters, The (1990)\n",
      "Movie ID: 701, Title: Wonderful, Horrible Life of Leni Riefenstahl, The (1993)\n",
      "Movie ID: 711, Title: Substance of Fire, The (1996)\n",
      "Movie ID: 891, Title: Bent (1997)\n",
      "Movie ID: 914, Title: Wild Things (1998)\n",
      "Movie ID: 935, Title: Paradise Road (1997)\n",
      "Movie ID: 1313, Title: Palmetto (1998)\n",
      "Movie ID: 1526, Title: Witness (1985)\n"
     ]
    }
   ],
   "source": [
    "# Logistic Regression\n",
    "top_k_recommendations_lr = recommend_top_k_movies_lr(user_id, num_movies_to_recommend)"
   ],
   "metadata": {
    "collapsed": false,
    "ExecuteTime": {
     "end_time": "2023-12-03T19:09:18.237949700Z",
     "start_time": "2023-12-03T19:09:15.271040600Z"
    }
   },
   "id": "882162bcc6f93deb"
  }
 ],
 "metadata": {
  "kernelspec": {
   "display_name": "Python 3",
   "language": "python",
   "name": "python3"
  },
  "language_info": {
   "codemirror_mode": {
    "name": "ipython",
    "version": 2
   },
   "file_extension": ".py",
   "mimetype": "text/x-python",
   "name": "python",
   "nbconvert_exporter": "python",
   "pygments_lexer": "ipython2",
   "version": "2.7.6"
  }
 },
 "nbformat": 4,
 "nbformat_minor": 5
}
