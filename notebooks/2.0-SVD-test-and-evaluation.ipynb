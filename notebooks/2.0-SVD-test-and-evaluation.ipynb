{
 "cells": [
  {
   "cell_type": "markdown",
   "source": [
    "## Implement a Recommender System based on Singular Value Decomposition (SVD) and evaluate the performance using Hit Ratio @ 10"
   ],
   "metadata": {
    "collapsed": false
   },
   "id": "8f69e98ca88e662b"
  },
  {
   "cell_type": "code",
   "execution_count": 1,
   "outputs": [],
   "source": [
    "import pandas as pd\n",
    "import numpy as np\n",
    "from tqdm import tqdm"
   ],
   "metadata": {
    "collapsed": false,
    "ExecuteTime": {
     "end_time": "2023-12-03T15:29:33.838556700Z",
     "start_time": "2023-12-03T15:29:33.823414Z"
    }
   },
   "id": "de7de6813653add0"
  },
  {
   "cell_type": "code",
   "execution_count": 2,
   "outputs": [],
   "source": [
    "from benchmark.calculate_hit_ratio_svd import calculate_hit_ratio_svd"
   ],
   "metadata": {
    "collapsed": false,
    "ExecuteTime": {
     "end_time": "2023-12-03T15:29:33.854556200Z",
     "start_time": "2023-12-03T15:29:33.838556700Z"
    }
   },
   "id": "912a0b3a8ba7dd0f"
  },
  {
   "cell_type": "code",
   "execution_count": null,
   "outputs": [],
   "source": [
    "from utils.svd_utils import create_user_item_matrix, apply_svd, predict_ratings"
   ],
   "metadata": {
    "collapsed": false
   },
   "id": "ed1aeb5b6bac1bb9"
  },
  {
   "cell_type": "markdown",
   "source": [
    "#### Calculate Hit Ratio @ 10 for each folder from (u1.base, u1.test) to (u5.base, u5.test) and each number of latent factors from 5 to 50 with a step of 5"
   ],
   "metadata": {
    "collapsed": false
   },
   "id": "5c359bc0143ca890"
  },
  {
   "cell_type": "code",
   "execution_count": 6,
   "outputs": [],
   "source": [
    "# Load data and get a list of all movies\n",
    "data = pd.read_csv('../data/raw/u.data', sep='\\t', names=['user_id', 'movie_id', 'rating', 'timestamp'])\n",
    "all_movies = np.arange(1, max(data['movie_id']) + 1)"
   ],
   "metadata": {
    "collapsed": false,
    "ExecuteTime": {
     "end_time": "2023-12-03T15:29:33.933556500Z",
     "start_time": "2023-12-03T15:29:33.902556100Z"
    }
   },
   "id": "a5c70954bc3a9419"
  },
  {
   "cell_type": "code",
   "execution_count": 7,
   "outputs": [],
   "source": [
    "# Calculate Hit Ratio @ 10 for each folder and each number of latent factors\n",
    "latent_factors = [i for i in range(5, 51, 5)]\n",
    "fold_hit_ratio_results = {k: [] for k in latent_factors}"
   ],
   "metadata": {
    "collapsed": false,
    "ExecuteTime": {
     "end_time": "2023-12-03T15:29:33.949556600Z",
     "start_time": "2023-12-03T15:29:33.934556300Z"
    }
   },
   "id": "d3fb5ae7d73657d6"
  },
  {
   "cell_type": "code",
   "execution_count": 9,
   "outputs": [
    {
     "name": "stderr",
     "output_type": "stream",
     "text": [
      "Latent Factors:  10%|█         | 1/10 [00:03<00:31,  3.54s/it]"
     ]
    },
    {
     "name": "stdout",
     "output_type": "stream",
     "text": [
      "Average Hit Ratio @ 10 for 5 latent factors: 0.7726\n"
     ]
    },
    {
     "name": "stderr",
     "output_type": "stream",
     "text": [
      "Latent Factors:  20%|██        | 2/10 [00:07<00:28,  3.61s/it]"
     ]
    },
    {
     "name": "stdout",
     "output_type": "stream",
     "text": [
      "Average Hit Ratio @ 10 for 10 latent factors: 0.7974\n"
     ]
    },
    {
     "name": "stderr",
     "output_type": "stream",
     "text": [
      "Latent Factors:  30%|███       | 3/10 [00:10<00:25,  3.68s/it]"
     ]
    },
    {
     "name": "stdout",
     "output_type": "stream",
     "text": [
      "Average Hit Ratio @ 10 for 15 latent factors: 0.7928\n"
     ]
    },
    {
     "name": "stderr",
     "output_type": "stream",
     "text": [
      "Latent Factors:  40%|████      | 4/10 [00:14<00:22,  3.74s/it]"
     ]
    },
    {
     "name": "stdout",
     "output_type": "stream",
     "text": [
      "Average Hit Ratio @ 10 for 20 latent factors: 0.7818\n"
     ]
    },
    {
     "name": "stderr",
     "output_type": "stream",
     "text": [
      "Latent Factors:  50%|█████     | 5/10 [00:18<00:19,  3.81s/it]"
     ]
    },
    {
     "name": "stdout",
     "output_type": "stream",
     "text": [
      "Average Hit Ratio @ 10 for 25 latent factors: 0.7771\n"
     ]
    },
    {
     "name": "stderr",
     "output_type": "stream",
     "text": [
      "Latent Factors:  60%|██████    | 6/10 [00:22<00:15,  3.87s/it]"
     ]
    },
    {
     "name": "stdout",
     "output_type": "stream",
     "text": [
      "Average Hit Ratio @ 10 for 30 latent factors: 0.7660\n"
     ]
    },
    {
     "name": "stderr",
     "output_type": "stream",
     "text": [
      "Latent Factors:  70%|███████   | 7/10 [00:26<00:11,  3.94s/it]"
     ]
    },
    {
     "name": "stdout",
     "output_type": "stream",
     "text": [
      "Average Hit Ratio @ 10 for 35 latent factors: 0.7615\n"
     ]
    },
    {
     "name": "stderr",
     "output_type": "stream",
     "text": [
      "Latent Factors:  80%|████████  | 8/10 [00:30<00:07,  4.00s/it]"
     ]
    },
    {
     "name": "stdout",
     "output_type": "stream",
     "text": [
      "Average Hit Ratio @ 10 for 40 latent factors: 0.7439\n"
     ]
    },
    {
     "name": "stderr",
     "output_type": "stream",
     "text": [
      "Latent Factors:  90%|█████████ | 9/10 [00:35<00:04,  4.05s/it]"
     ]
    },
    {
     "name": "stdout",
     "output_type": "stream",
     "text": [
      "Average Hit Ratio @ 10 for 45 latent factors: 0.7362\n"
     ]
    },
    {
     "name": "stderr",
     "output_type": "stream",
     "text": [
      "Latent Factors: 100%|██████████| 10/10 [00:39<00:00,  3.93s/it]"
     ]
    },
    {
     "name": "stdout",
     "output_type": "stream",
     "text": [
      "Average Hit Ratio @ 10 for 50 latent factors: 0.7251\n"
     ]
    },
    {
     "name": "stderr",
     "output_type": "stream",
     "text": [
      "\n"
     ]
    }
   ],
   "source": [
    "for k in tqdm(latent_factors, desc='Latent Factors'):\n",
    "    for fold in range(1, 6):\n",
    "        # Load and prepare data\n",
    "        train_matrix_csr, train_matrix_df = create_user_item_matrix(f'../data/raw/u{fold}.base')\n",
    "        train_data = pd.read_csv(f'../data/raw/u{fold}.base', sep='\\t',\n",
    "                                 names=['user_id', 'movie_id', 'rating', 'timestamp'])\n",
    "        test_data = pd.read_csv(f'../data/raw/u{fold}.test', sep='\\t',\n",
    "                                names=['user_id', 'movie_id', 'rating', 'timestamp'])\n",
    "\n",
    "        # Apply SVD\n",
    "        u, sigma, vt = apply_svd(train_matrix_csr, k)\n",
    "\n",
    "        # Predict ratings\n",
    "        predicted_ratings_df = predict_ratings(u, sigma, vt, train_matrix_df, all_movies)\n",
    "\n",
    "        # Calculate Hit Ratio @ 10\n",
    "        hit_ratio = calculate_hit_ratio_svd(test_data, predicted_ratings_df, all_movies)\n",
    "        fold_hit_ratio_results[k].append(hit_ratio)\n",
    "\n",
    "    avg_hit_ratio = np.mean(fold_hit_ratio_results[k])\n",
    "    print(f'Average Hit Ratio @ 10 for {k} latent factors: {avg_hit_ratio:.4f}')"
   ],
   "metadata": {
    "collapsed": false,
    "ExecuteTime": {
     "end_time": "2023-12-03T15:30:58.835738400Z",
     "start_time": "2023-12-03T15:30:19.528289900Z"
    }
   },
   "id": "8be86a1380ba0ee9"
  },
  {
   "cell_type": "code",
   "execution_count": 13,
   "outputs": [
    {
     "name": "stdout",
     "output_type": "stream",
     "text": [
      "Best number of latent factors: 10\n",
      "Average Hit Ratio @ 10: 0.7974\n",
      "Best Hit Ratio @ 10: 0.8200\n"
     ]
    }
   ],
   "source": [
    "best_k = max(fold_hit_ratio_results, key=fold_hit_ratio_results.get)\n",
    "print(f'Best number of latent factors: {best_k}')\n",
    "print(f'Average Hit Ratio @ 10: {np.mean(fold_hit_ratio_results.get(best_k)):.4f}')\n",
    "print(f'Best Hit Ratio @ 10: {max(fold_hit_ratio_results.get(best_k)):.4f}')"
   ],
   "metadata": {
    "collapsed": false,
    "ExecuteTime": {
     "end_time": "2023-12-03T15:37:38.980813100Z",
     "start_time": "2023-12-03T15:37:38.974814300Z"
    }
   },
   "id": "3d16f275d2185b79"
  }
 ],
 "metadata": {
  "kernelspec": {
   "display_name": "Python 3",
   "language": "python",
   "name": "python3"
  },
  "language_info": {
   "codemirror_mode": {
    "name": "ipython",
    "version": 2
   },
   "file_extension": ".py",
   "mimetype": "text/x-python",
   "name": "python",
   "nbconvert_exporter": "python",
   "pygments_lexer": "ipython2",
   "version": "2.7.6"
  }
 },
 "nbformat": 4,
 "nbformat_minor": 5
}
