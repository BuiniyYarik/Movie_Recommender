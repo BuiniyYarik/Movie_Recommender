{
 "cells": [
  {
   "cell_type": "markdown",
   "source": [
    "## Implement a Recommender System based on linear regression (ElasticNet) and evaluate its performance using Hit Ratio @ 10"
   ],
   "metadata": {
    "collapsed": false
   },
   "id": "c7dee6a8f3e15827"
  },
  {
   "cell_type": "code",
   "execution_count": 16,
   "outputs": [],
   "source": [
    "import pandas as pd\n",
    "from sklearn.preprocessing import MinMaxScaler\n",
    "from sklearn.linear_model import ElasticNet\n",
    "import numpy as np"
   ],
   "metadata": {
    "collapsed": false,
    "ExecuteTime": {
     "end_time": "2023-12-03T16:10:47.461154Z",
     "start_time": "2023-12-03T16:10:47.451155100Z"
    }
   },
   "id": "c62cc719545b8d9b"
  },
  {
   "cell_type": "code",
   "execution_count": 17,
   "outputs": [],
   "source": [
    "from benchmark.calculate_hit_ratio_lr import calculate_hit_ratio_lr"
   ],
   "metadata": {
    "collapsed": false,
    "ExecuteTime": {
     "end_time": "2023-12-03T16:10:47.487154400Z",
     "start_time": "2023-12-03T16:10:47.458154Z"
    }
   },
   "id": "4a2808b5ac8bef44"
  },
  {
   "cell_type": "markdown",
   "source": [
    "#### Load the data"
   ],
   "metadata": {
    "collapsed": false
   },
   "id": "e76fa4cc7e57e9ec"
  },
  {
   "cell_type": "code",
   "execution_count": 18,
   "outputs": [],
   "source": [
    "# File paths\n",
    "data_file = '../data/raw/u.data'\n",
    "user_file = '../data/raw/u.user'\n",
    "item_file = '../data/raw/u.item'\n",
    "genre_file = '../data/raw/u.genre'\n",
    "occupation_file = '../data/raw/u.occupation'"
   ],
   "metadata": {
    "collapsed": false,
    "ExecuteTime": {
     "end_time": "2023-12-03T16:10:47.488154600Z",
     "start_time": "2023-12-03T16:10:47.473154200Z"
    }
   },
   "id": "342e3141b85a61ee"
  },
  {
   "cell_type": "code",
   "execution_count": 19,
   "outputs": [],
   "source": [
    "# Ratings Data\n",
    "ratings_columns = ['user_id', 'movie_id', 'rating', 'timestamp']\n",
    "ratings = pd.read_csv(data_file, sep='\\t', names=ratings_columns, encoding='latin-1')"
   ],
   "metadata": {
    "collapsed": false,
    "ExecuteTime": {
     "end_time": "2023-12-03T16:10:47.520155100Z",
     "start_time": "2023-12-03T16:10:47.489155100Z"
    }
   },
   "id": "a9851cea18de13c6"
  },
  {
   "cell_type": "code",
   "execution_count": 20,
   "outputs": [],
   "source": [
    "# User Data\n",
    "user_columns = ['user_id', 'age', 'gender', 'occupation', 'zip_code']\n",
    "users = pd.read_csv(user_file, sep='|', names=user_columns, encoding='latin-1')"
   ],
   "metadata": {
    "collapsed": false,
    "ExecuteTime": {
     "end_time": "2023-12-03T16:10:47.534154500Z",
     "start_time": "2023-12-03T16:10:47.519154400Z"
    }
   },
   "id": "e4fa1023165ec200"
  },
  {
   "cell_type": "code",
   "execution_count": 21,
   "outputs": [],
   "source": [
    "# Movie Data\n",
    "item_columns = ['movie_id', 'movie_title', 'release_date', 'video_release_date',\n",
    "                'IMDb_URL', 'unknown', 'Action', 'Adventure', 'Animation',\n",
    "                'Children\\'s', 'Comedy', 'Crime', 'Documentary', 'Drama', 'Fantasy',\n",
    "                'Film-Noir', 'Horror', 'Musical', 'Mystery', 'Romance', 'Sci-Fi',\n",
    "                'Thriller', 'War', 'Western']\n",
    "movies = pd.read_csv(item_file, sep='|', names=item_columns, encoding='latin-1')"
   ],
   "metadata": {
    "collapsed": false,
    "ExecuteTime": {
     "end_time": "2023-12-03T16:10:47.550154100Z",
     "start_time": "2023-12-03T16:10:47.534154500Z"
    }
   },
   "id": "aaf7d88e8aba18cd"
  },
  {
   "cell_type": "code",
   "execution_count": 22,
   "outputs": [],
   "source": [
    "# Occupation Data\n",
    "occupations = pd.read_csv(occupation_file, names=['occupation'], encoding='latin-1')"
   ],
   "metadata": {
    "collapsed": false,
    "ExecuteTime": {
     "end_time": "2023-12-03T16:10:47.570154400Z",
     "start_time": "2023-12-03T16:10:47.550154100Z"
    }
   },
   "id": "bf3bd5eac183fa8e"
  },
  {
   "cell_type": "code",
   "execution_count": 23,
   "outputs": [],
   "source": [
    "def aggregate_genres(row):\n",
    "    \"\"\"\n",
    "    Aggregate genres into a single column\n",
    "    \n",
    "    Parameters:\n",
    "    row (Series): A row of the DataFrame\n",
    "    \n",
    "    Returns:\n",
    "    str: A string of genres separated by a pipe (|)\n",
    "    \"\"\"\n",
    "    return '|'.join([genre for genre in item_columns[6:] if row[genre] == 1])"
   ],
   "metadata": {
    "collapsed": false,
    "ExecuteTime": {
     "end_time": "2023-12-03T16:10:47.582155600Z",
     "start_time": "2023-12-03T16:10:47.565154200Z"
    }
   },
   "id": "65d59bc2a00cd744"
  },
  {
   "cell_type": "code",
   "execution_count": 24,
   "outputs": [],
   "source": [
    "# Aggregate genres for each movie\n",
    "movies['genres'] = movies.apply(aggregate_genres, axis=1)"
   ],
   "metadata": {
    "collapsed": false,
    "ExecuteTime": {
     "end_time": "2023-12-03T16:10:47.643156500Z",
     "start_time": "2023-12-03T16:10:47.595154900Z"
    }
   },
   "id": "b2c878d4b0fdca35"
  },
  {
   "cell_type": "markdown",
   "source": [
    "#### Calculate Hit Ratio @ 10 for each folder from (u1.base, u1.test) to (u5.base, u5.test) and (ua.base, ua.test) and (ub.base, ub.test)"
   ],
   "metadata": {
    "collapsed": false
   },
   "id": "b213c836bff4468"
  },
  {
   "cell_type": "code",
   "execution_count": 25,
   "outputs": [],
   "source": [
    "def predict_ratings(model, X, user_ids, movie_ids):\n",
    "    \"\"\"\n",
    "    Predict ratings for all user-movie pairs\n",
    "    \n",
    "    Parameters:\n",
    "    model (sklearn.linear_model.ElasticNet): Trained model\n",
    "    X (DataFrame): DataFrame of features\n",
    "    user_ids (list): List of user IDs\n",
    "    movie_ids (list): List of movie IDs\n",
    "    \n",
    "    Returns:\n",
    "    DataFrame: DataFrame of predicted ratings for all user-movie pairs\n",
    "    \"\"\"\n",
    "    # Generate predictions\n",
    "    predictions = model.predict(X)\n",
    "\n",
    "    # Create a DataFrame for predictions\n",
    "    predicted_ratings_df = pd.DataFrame({\n",
    "        'user_id': X['user_id'],\n",
    "        'movie_id': X['movie_id'],\n",
    "        'predicted_rating': predictions\n",
    "    })\n",
    "\n",
    "    # Convert to MultiIndex DataFrame\n",
    "    predicted_ratings_df.set_index(['user_id', 'movie_id'], inplace=True)\n",
    "\n",
    "    # Reindex to include all user-movie pairs, filling missing ones with average prediction\n",
    "    full_index = pd.MultiIndex.from_product([user_ids, movie_ids], names=['user_id', 'movie_id'])\n",
    "    predicted_ratings_df = predicted_ratings_df.reindex(full_index, fill_value=np.mean(predictions))\n",
    "\n",
    "    return predicted_ratings_df"
   ],
   "metadata": {
    "collapsed": false,
    "ExecuteTime": {
     "end_time": "2023-12-03T16:10:47.660154900Z",
     "start_time": "2023-12-03T16:10:47.645155Z"
    }
   },
   "id": "b276963d030e72f"
  },
  {
   "cell_type": "code",
   "execution_count": 26,
   "outputs": [],
   "source": [
    "# Get all movie IDs\n",
    "all_movies = ratings['movie_id'].unique()"
   ],
   "metadata": {
    "collapsed": false,
    "ExecuteTime": {
     "end_time": "2023-12-03T16:10:47.676154100Z",
     "start_time": "2023-12-03T16:10:47.660154900Z"
    }
   },
   "id": "cdc83a7cb8be081d"
  },
  {
   "cell_type": "code",
   "execution_count": 27,
   "outputs": [],
   "source": [
    "# Initialize results list\n",
    "fold_hit_ratio_results = []"
   ],
   "metadata": {
    "collapsed": false,
    "ExecuteTime": {
     "end_time": "2023-12-03T16:10:47.691154500Z",
     "start_time": "2023-12-03T16:10:47.675154900Z"
    }
   },
   "id": "c3811c6e5b3cbfb2"
  },
  {
   "cell_type": "code",
   "execution_count": 28,
   "outputs": [],
   "source": [
    "# File paths for cross-validation sets\n",
    "cross_validation_sets = [('u1.base', 'u1.test'), ('u2.base', 'u2.test'), ('u3.base', 'u3.test'),\n",
    "                         ('u4.base', 'u4.test'), ('u5.base', 'u5.test'), ('ua.base', 'ua.test'),\n",
    "                         ('ub.base', 'ub.test')]"
   ],
   "metadata": {
    "collapsed": false,
    "ExecuteTime": {
     "end_time": "2023-12-03T16:10:47.706155200Z",
     "start_time": "2023-12-03T16:10:47.691154500Z"
    }
   },
   "id": "23379c08be33ce0"
  },
  {
   "cell_type": "code",
   "execution_count": 29,
   "outputs": [],
   "source": [
    "# Initialize MinMaxScaler\n",
    "scaler = MinMaxScaler()"
   ],
   "metadata": {
    "collapsed": false,
    "ExecuteTime": {
     "end_time": "2023-12-03T16:10:47.722155Z",
     "start_time": "2023-12-03T16:10:47.707154300Z"
    }
   },
   "id": "beb966530b2acef8"
  },
  {
   "cell_type": "code",
   "execution_count": 32,
   "outputs": [
    {
     "name": "stdout",
     "output_type": "stream",
     "text": [
      "Hit Ratio @ 10 for u1.base: 0.6798\n",
      "Hit Ratio @ 10 for u2.base: 0.7252\n",
      "Hit Ratio @ 10 for u3.base: 0.6773\n",
      "Hit Ratio @ 10 for u4.base: 0.6685\n",
      "Hit Ratio @ 10 for u5.base: 0.6720\n",
      "Hit Ratio @ 10 for ua.base: 0.6777\n",
      "Hit Ratio @ 10 for ub.base: 0.6652\n",
      "Average Hit Ratio @ 10 across all folds: 0.6794\n"
     ]
    }
   ],
   "source": [
    "for train_file, test_file in cross_validation_sets:\n",
    "    # Load training and test data\n",
    "    train_data = pd.read_csv(f'../data/raw/{train_file}', sep='\\t', names=ratings_columns, encoding='latin-1')\n",
    "    test_data = pd.read_csv(f'../data/raw/{test_file}', sep='\\t', names=ratings_columns, encoding='latin-1')\n",
    "\n",
    "    # Merge with user and movie data\n",
    "    train_merged = pd.merge(train_data, users, on='user_id')\n",
    "    train_merged = pd.merge(train_merged, movies[['movie_id', 'genres']], on='movie_id')\n",
    "    test_merged = pd.merge(test_data, users, on='user_id')\n",
    "    test_merged = pd.merge(test_merged, movies[['movie_id', 'genres']], on='movie_id')\n",
    "\n",
    "    # One-Hot Encoding\n",
    "    train_merged = train_merged.join(train_merged['genres'].str.get_dummies('|'))\n",
    "    train_merged = pd.get_dummies(train_merged, columns=['gender', 'occupation'])\n",
    "    test_merged = test_merged.join(test_merged['genres'].str.get_dummies('|'))\n",
    "    test_merged = pd.get_dummies(test_merged, columns=['gender', 'occupation'])\n",
    "\n",
    "    # Normalize age\n",
    "    train_merged['age_normalized'] = scaler.fit_transform(train_merged['age'].values.reshape(-1, 1))\n",
    "    test_merged['age_normalized'] = scaler.transform(test_merged['age'].values.reshape(-1, 1))\n",
    "\n",
    "    # Prepare features and target\n",
    "    X_train = train_merged.drop(['rating', 'timestamp', 'zip_code', 'age', 'genres'], axis=1)\n",
    "    y_train = train_merged['rating']\n",
    "    X_test = test_merged.drop(['rating', 'timestamp', 'zip_code', 'age', 'genres'], axis=1)\n",
    "    y_test = test_merged['rating']\n",
    "\n",
    "    # Train the model\n",
    "    model = ElasticNet(alpha=1, l1_ratio=0.5)\n",
    "    model.fit(X_train, y_train)\n",
    "    \n",
    "    # Get user IDs and movie IDs from the test set\n",
    "    test_user_ids = test_data['user_id'].unique()\n",
    "    test_movie_ids = test_data['movie_id'].unique()\n",
    "    \n",
    "    # Predict ratings for the test set\n",
    "    predicted_ratings_df = predict_ratings(model, X_test, test_user_ids, test_movie_ids)\n",
    "    \n",
    "    # Calculate Hit Ratio @ 10\n",
    "    hit_ratio = calculate_hit_ratio_lr(test_merged, predicted_ratings_df, all_movies)\n",
    "    fold_hit_ratio_results.append(hit_ratio)\n",
    "    print(f'Hit Ratio @ 10 for {train_file}: {hit_ratio:.4f}')\n",
    "\n",
    "\n",
    "# Calculate the average Hit Ratio @ 10 across all folds\n",
    "average_hit_ratio = np.mean(fold_hit_ratio_results)\n",
    "print(f'Average Hit Ratio @ 10 across all folds: {average_hit_ratio:.4f}')\n"
   ],
   "metadata": {
    "collapsed": false,
    "ExecuteTime": {
     "end_time": "2023-12-03T16:12:36.569446400Z",
     "start_time": "2023-12-03T16:12:15.623291500Z"
    }
   },
   "id": "55ab7bd1bd08fd44"
  }
 ],
 "metadata": {
  "kernelspec": {
   "display_name": "Python 3",
   "language": "python",
   "name": "python3"
  },
  "language_info": {
   "codemirror_mode": {
    "name": "ipython",
    "version": 2
   },
   "file_extension": ".py",
   "mimetype": "text/x-python",
   "name": "python",
   "nbconvert_exporter": "python",
   "pygments_lexer": "ipython2",
   "version": "2.7.6"
  }
 },
 "nbformat": 4,
 "nbformat_minor": 5
}
